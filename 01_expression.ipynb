{
  "nbformat": 4,
  "nbformat_minor": 0,
  "metadata": {
    "colab": {
      "provenance": [],
      "authorship_tag": "ABX9TyNlc7Tg7ttc8XoumHsnHNHn",
      "include_colab_link": true
    },
    "kernelspec": {
      "name": "python3",
      "display_name": "Python 3"
    },
    "language_info": {
      "name": "python"
    }
  },
  "cells": [
    {
      "cell_type": "markdown",
      "metadata": {
        "id": "view-in-github",
        "colab_type": "text"
      },
      "source": [
        "<a href=\"https://colab.research.google.com/github/aimanhanif321/Assingmnt_04/blob/main/01_expression.ipynb\" target=\"_parent\"><img src=\"https://colab.research.google.com/assets/colab-badge.svg\" alt=\"Open In Colab\"/></a>"
      ]
    },
    {
      "cell_type": "markdown",
      "source": [
        "# **01_dice_simulator**"
      ],
      "metadata": {
        "id": "sr1TCKO9d6wk"
      }
    },
    {
      "cell_type": "code",
      "source": [
        "import random\n",
        "\n",
        "dice_sides = 6  #global variable it acces any where in code\n",
        "\n",
        "def roll():\n",
        "\n",
        "   die_one = random.randint(1,dice_sides)#local variable it acces in this function only\n",
        "   die_two = random.randint(1,dice_sides)#local variable it acces in this function only\n",
        "   total = die_one + die_two\n",
        "   print(total)\n",
        "\n",
        "def rolling():\n",
        "   die_one = 20 #local variable it acces in this function only\n",
        "   print(f'die_one is {die_one}')\n",
        "\n",
        "   roll()\n",
        "   roll()\n",
        "   roll()\n",
        "\n",
        "   print(f'die_one is {die_one}')\n",
        "\n",
        "if __name__ == '__main__':\n",
        "\n",
        "    rolling()\n",
        "\n"
      ],
      "metadata": {
        "id": "-LRk_NZGeDoK"
      },
      "execution_count": null,
      "outputs": []
    },
    {
      "cell_type": "markdown",
      "source": [
        "# **02_e = mc2**"
      ],
      "metadata": {
        "id": "hg4NhoZLeUrG"
      }
    },
    {
      "cell_type": "code",
      "source": [],
      "metadata": {
        "id": "V4SpUZwvMiiX"
      },
      "execution_count": null,
      "outputs": []
    },
    {
      "cell_type": "code",
      "source": [
        "def calculate():\n",
        "    m_in_kilograms = float(input('Enter kilos of mass: '))\n",
        "    C = 299792458\n",
        "    E = m_in_kilograms * C**2\n",
        "\n",
        "\n",
        "    print(\"C = 299792458\")\n",
        "    print(\"m = \" + str(m_in_kilograms) + \"kg\")\n",
        "    print('E = m_in_kilograms * C**2')\n",
        "    print(f'{E} joules of energy!')\n",
        "\n",
        "calculate()"
      ],
      "metadata": {
        "id": "M40fCh80ejRD",
        "colab": {
          "base_uri": "https://localhost:8080/"
        },
        "outputId": "7044e648-377d-476d-9caa-c79c3058e1d6"
      },
      "execution_count": 1,
      "outputs": [
        {
          "output_type": "stream",
          "name": "stdout",
          "text": [
            "Enter kilos of mass: 2\n",
            "C = 299792458\n",
            "m = 2.0kg\n",
            "E = m_in_kilograms * C**2\n",
            "1.7975103574736352e+17 joules of energy!\n"
          ]
        }
      ]
    },
    {
      "cell_type": "markdown",
      "source": [
        "# **03_feet_to_inches **"
      ],
      "metadata": {
        "id": "gARf07tjoB6D"
      }
    },
    {
      "cell_type": "code",
      "source": [
        "def convrt():\n",
        "    per_feet = 12 #inches\n",
        "\n",
        "    feet = float(input('enter number of feet: '))\n",
        "\n",
        "    to_inches = feet * per_feet\n",
        "\n",
        "    print(f'feet is {to_inches} inches')\n",
        "\n",
        "if __name__ == '__main__':\n",
        "    convrt()\n"
      ],
      "metadata": {
        "id": "gIGjN3nUoMme"
      },
      "execution_count": null,
      "outputs": []
    },
    {
      "cell_type": "markdown",
      "source": [
        "# **04\\-pathagoream_theorm**\n",
        "\n",
        "Write a program that asks the user for the lengths of the two perpendicular sides of a right triangle and outputs the length of\n",
        "the third side (the hypotenuse) using the Pythagorean theorem!\n",
        "\n",
        "The Pythagorean theorem, named after the ancient Greek thinker, Pythagoras, is a fundamental relation in geometry.\n",
        "It states that in a right triangle, the square of the hypotenuse is equal to the sum of the square of the other two sides.\n",
        "\n",
        "For instance, let's consider a right triangle ABC, with the right angle located at C. According to the Pythagorean theorem:\n",
        "\n",
        "BC ** 2 = AB ** 2 + AC ** 2\n",
        "\n",
        "Your code should read in the lengths of the sides AB and AC, and that outputs the length of the hypotenuse (BC).\n",
        " You will probably find math.sqrt() to be useful.\n",
        "\n",
        "Here's a sample run of the program (user input is in bold italics):\n",
        "\n",
        "Enter the length of AB: 3\n",
        "\n",
        "Enter the length of AC: 4\n",
        "\n",
        "The length of BC (the hypotenuse) is: 5.0"
      ],
      "metadata": {
        "id": "NRzAajkuoQbe"
      }
    },
    {
      "cell_type": "code",
      "source": [
        "import math\n",
        "def find_len():\n",
        "\n",
        "    AB = float(input('Enter the length of AB:'))\n",
        "    AC = float(input('Enter the length of AC:'))\n",
        "    BC  = AB ** 2 + AC ** 2\n",
        "    BC = math.sqrt(BC)\n",
        "    print(BC)\n",
        "\n",
        "if __name__ == '__main__':\n",
        "    find_len()"
      ],
      "metadata": {
        "id": "NydttVa7obDc"
      },
      "execution_count": null,
      "outputs": []
    },
    {
      "cell_type": "markdown",
      "source": [
        "# 05_remainder_division\n",
        "\n",
        "\"\"\"Ask the user for two numbers, one at a time, and then print the result of dividing the first number by the second and also the\n",
        " remainder of the division.\n",
        "\n",
        "Here's a sample run of the program (user input is in bold italics):\n",
        "\n",
        "Please enter an integer to be divided: 5\n",
        "\n",
        "Please enter an integer to divide by: 3\n",
        "\n",
        "\n",
        "The result of this division is 1 with a remainder of 2\"\"\"\n",
        "\n",
        "\n"
      ],
      "metadata": {
        "id": "qpNxasBqooQ8"
      }
    },
    {
      "cell_type": "code",
      "source": [
        "def divi_remainder():\n",
        "    dividend = int(input('Please enter an integer to be divided:'))\n",
        "    divisor = int(input('Please enter an integer to be divided by:'))\n",
        "\n",
        "    quoitent = dividend // divisor\n",
        "    remainder = dividend % divisor\n",
        "\n",
        "    print(f'the result of  {dividend} divide by {divisor} quoitent is {quoitent} and the remainder is {remainder}')\n",
        "\n",
        "\n",
        "if __name__ == '__main__':\n",
        "\n",
        "     divi_remainder()"
      ],
      "metadata": {
        "id": "sbe1XdeRo0kc"
      },
      "execution_count": null,
      "outputs": []
    },
    {
      "cell_type": "markdown",
      "source": [
        "# **_06_ Roll_dice **"
      ],
      "metadata": {
        "id": "c4TBLcLfo5as"
      }
    },
    {
      "cell_type": "code",
      "source": [
        "import random\n",
        "\n",
        "dice_sides = 6\n",
        "def roll_dice():\n",
        "    random.seed(1) # same random number print every time\n",
        "\n",
        "    die1 = random.randint(1,dice_sides)\n",
        "    die2 = random.randint(1,dice_sides)\n",
        "\n",
        "    total = die1 + die2\n",
        "\n",
        "    print(f'number of dice sides is {dice_sides}')\n",
        "    print(f'die one is {die1}')\n",
        "    print(f'die two is {die2}')\n",
        "    print(f'the sum of {die1} and {die2} is {total}')\n",
        "if __name__ == '__main__':\n",
        " roll_dice()"
      ],
      "metadata": {
        "id": "ncDfU-VDo-yY"
      },
      "execution_count": null,
      "outputs": []
    },
    {
      "cell_type": "markdown",
      "source": [
        "# **07_seconds_in_year**\n",
        "Use Python to calculate the number of seconds in a year, and tell the user what the result is in a nice print statement\n",
        "that looks like this (of course the value 5 should be the calculated number instead):\n",
        "\n",
        "There are 5 seconds in a year!\n",
        "\n",
        "You should use constants for this exercise -- there are 365 days in a year, 24 hours in a day, 60 minutes in an hour,\n",
        "and 60 seconds per minute.\n"
      ],
      "metadata": {
        "id": "7GnoB2TQpEsP"
      }
    },
    {
      "cell_type": "code",
      "source": [
        "DAYS_IN_YEAR = 365\n",
        "\n",
        "HOURS_IN_A_DAY = 24\n",
        "\n",
        "MIN_IN_AN_HOUR = 60\n",
        "\n",
        "SEC_PER_MIN = 60\n",
        "\n",
        "SECONDS_IN_A_DAY = HOURS_IN_A_DAY * SEC_PER_MIN * MIN_IN_AN_HOUR\n",
        "\n",
        "SECONDS_IN_A_YEAR =  SECONDS_IN_A_DAY * DAYS_IN_YEAR\n",
        "\n",
        "print(f\"there are {SECONDS_IN_A_YEAR} in a year\")"
      ],
      "metadata": {
        "id": "WnQZdrvNMwuk"
      },
      "execution_count": null,
      "outputs": []
    },
    {
      "cell_type": "markdown",
      "source": [
        "# **08_tiny_madlib **\n"
      ],
      "metadata": {
        "id": "wjK27donNFJ_"
      }
    },
    {
      "cell_type": "code",
      "source": [
        "def mad_lib():\n",
        "    adj = input('Please type an adjective and press enter.')\n",
        "    noun =input('Please type an noun and press enter.')\n",
        "    verb =input('Please type an verb and press enter.')\n",
        "\n",
        "    print(f\"The {adj} {noun} loves to {verb} all day long!\")\n",
        "\n",
        "if __name__ == '__main__':\n",
        "    mad_lib()\n"
      ],
      "metadata": {
        "id": "Z4m4-HAYNO5Z"
      },
      "execution_count": null,
      "outputs": []
    }
  ]
}