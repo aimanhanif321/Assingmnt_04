{
  "nbformat": 4,
  "nbformat_minor": 0,
  "metadata": {
    "colab": {
      "provenance": [],
      "authorship_tag": "ABX9TyMBx3SMhhpm4bwwzO7W0EeI",
      "include_colab_link": true
    },
    "kernelspec": {
      "name": "python3",
      "display_name": "Python 3"
    },
    "language_info": {
      "name": "python"
    }
  },
  "cells": [
    {
      "cell_type": "markdown",
      "metadata": {
        "id": "view-in-github",
        "colab_type": "text"
      },
      "source": [
        "<a href=\"https://colab.research.google.com/github/aimanhanif321/Assingmnt_04/blob/main/00_python_introduction.ipynb\" target=\"_parent\"><img src=\"https://colab.research.google.com/assets/colab-badge.svg\" alt=\"Open In Colab\"/></a>"
      ]
    },
    {
      "cell_type": "code",
      "execution_count": null,
      "metadata": {
        "id": "-5jU089cVSwQ"
      },
      "outputs": [],
      "source": []
    },
    {
      "cell_type": "markdown",
      "source": [
        " **01_add_two_numbers**\n",
        " Write a Python program that takes two integer inputs from the user and calculates their sum. The program should perform the following tasks:\n",
        "# New Section"
      ],
      "metadata": {
        "id": "BSCJlkJ9Vyol"
      }
    },
    {
      "cell_type": "code",
      "source": [
        "def calculate():\n",
        "\n",
        "# Prompt the user to enter the first number.\n",
        "    first_num:str = input('Enter First number : ')\n",
        "\n",
        "# Read the input and convert it to an integer.\n",
        "    first_num = int(first_num)\n",
        "\n",
        "# Prompt the user to enter the second number.\n",
        "    sec_num:str = input('Enter Second number : ')\n",
        "\n",
        "# Read the input and convert it to an integer.\n",
        "    sec_num = int(sec_num)\n",
        "\n",
        "# Calculate the sum of the two numbers.\n",
        "    total = first_num + sec_num\n",
        "\n",
        "# Print the total sum with an appropriate message.\n",
        "    print(f\"the sum of {first_num} + {sec_num} is {total}\")\n",
        "\n",
        "if __name__ == '__main__':\n",
        "    calculate()"
      ],
      "metadata": {
        "colab": {
          "base_uri": "https://localhost:8080/"
        },
        "id": "h23e2Z-eVuWp",
        "outputId": "a6073237-38e9-47f8-e0af-237bc87e5ba1"
      },
      "execution_count": 1,
      "outputs": [
        {
          "output_type": "stream",
          "name": "stdout",
          "text": [
            "Enter First number : 7\n",
            "Enter Second number : 9\n",
            "the sum of 7 + 9 is 16\n"
          ]
        }
      ]
    },
    {
      "cell_type": "markdown",
      "source": [
        "\n",
        "**02_agreement_bot.md**\n",
        " Write a program which asks the user what their favorite animal is, and then always responds with \"My favorite animal is\n",
        " also ___!\" (the blank should be filled in with the user-inputted animal, of course).\n",
        "\n",
        " Here's a sample run of the program (user input is in bold italics - note the space between the prompt and the user\n",
        "  input!):\n",
        "\n",
        " What's your favorite animal? cow\n",
        "\n",
        " My favorite animal is also cow!"
      ],
      "metadata": {
        "id": "u9HPBmPvWJal"
      }
    },
    {
      "cell_type": "code",
      "source": [
        "def fav_animl():\n",
        "    Animal:str = input('What,s your favorite animal? : ').strip()\n",
        "    # my_animl = f\" My favorite animal is also {Animal} \"\n",
        "    # print(my_animl)\n",
        "\n",
        "    print(f\" My favorite animal is also {Animal}\")\n",
        "\n",
        "\n",
        "if __name__ == '__main__':\n",
        "    fav_animl()"
      ],
      "metadata": {
        "id": "8KoCimKmWetq"
      },
      "execution_count": null,
      "outputs": []
    },
    {
      "cell_type": "markdown",
      "source": [
        "**03_fahrenheit_to_celsius.md**\n",
        "\n",
        "\n",
        "Write a program which prompts the user for a temperature in Fahrenheit (this can be a number with decimal places!)\n",
        " and outputs the temperature converted to Celsius.\n",
        "\n",
        "The Celsius scale is widely used to measure temperature, but places still use Fahrenheit. Fahrenheit is another unit for\n",
        "temperature, but the scale is different from Celsius -- for example, 0 degrees Celsius is 32 degrees Fahrenheit!\n",
        "\n",
        "The equation you should use for converting from Fahrenheit to Celsius is the following:\n",
        "\n",
        "degrees_celsius = (degrees_fahrenheit - 32) * 5.0/9.0\n",
        "\n",
        "(Note. The .0 after the 5 and 9 matters in the line above!!!)\n",
        "\n",
        "Here's a sample run of the program (user input is in bold italics):\n",
        "\n",
        "Enter temperature in Fahrenheit: 76\n",
        "\n",
        "Temperature: 76.0F = 24.444444444444443C"
      ],
      "metadata": {
        "id": "fIJafvSmXDQF"
      }
    },
    {
      "cell_type": "code",
      "source": [
        "def  convert():\n",
        "     degrees_fahrenheit = float(input('Enter temperature in Fahrenheit:'))\n",
        "\n",
        "     degrees_celsius = (degrees_fahrenheit - 32 ) * 5.0/9.0\n",
        "\n",
        "     print(f\"the temprature is farenhite {degrees_fahrenheit} to celcius is {degrees_celsius}C\")\n",
        "if __name__ == '__main__':\n",
        " convert()"
      ],
      "metadata": {
        "id": "bqu5wAriXUA1"
      },
      "execution_count": null,
      "outputs": []
    },
    {
      "cell_type": "markdown",
      "source": [
        "### **04_how_old_are_they **\n",
        " Write a program to solve this age-related riddle!"
      ],
      "metadata": {
        "id": "hSA-zaD2XoiJ"
      }
    },
    {
      "cell_type": "code",
      "source": [
        "# Anton, Beth, Chen, Drew, and Ethan are all friends. Their ages are as follows:\n",
        "\n",
        "# Anton is 21 years old.\n",
        "Anton = 21\n",
        "\n",
        "# Beth is 6 years older than Anton.\n",
        "Beth = Anton + 6\n",
        "\n",
        "# Chen is 20 years older than Beth.\n",
        "Chen = Beth + 20\n",
        "\n",
        "# Drew is as old as Chen's age plus Anton's age.Dre\n",
        "Drew = Chen + Anton\n",
        "\n",
        "\n",
        "# Ethan is the same age as Chen.\n",
        "\n",
        "Etan = Chen\n",
        "\n",
        "# Your code should store each person's age to a variable and print their names and ages '\n",
        "\n",
        "print(f'Anton is {Anton} years old')\n",
        "print(f'Beth is {Beth} years old')\n",
        "print(f'Chen is {Chen} years old')\n",
        "print(f'Drew is {Drew} years old')\n",
        "print(f'Ethan is {Etan} years old')\n",
        "\n",
        "# 'at the end. The autograder is sensitive to capitalization and punctuation, be careful! Your '\n",
        "# 'solution should look like this (the below numbers are made up -- your solution should have the correct values!):\n"
      ],
      "metadata": {
        "colab": {
          "base_uri": "https://localhost:8080/"
        },
        "id": "89dxjrkuYAT_",
        "outputId": "88d7a1b3-d1f1-4a43-8bf8-45714d8f6dd8"
      },
      "execution_count": 2,
      "outputs": [
        {
          "output_type": "stream",
          "name": "stdout",
          "text": [
            "Anton is 21 years old\n",
            "Beth is 27 years old\n",
            "Chen is 47 years old\n",
            "Drew is 68 years old\n",
            "Ethan is 47 years old\n"
          ]
        }
      ]
    },
    {
      "cell_type": "markdown",
      "source": [
        "# **05_triangle_parameter**\n",
        "\n",
        "Prompt the user to enter the lengths of each side of a triangle and then calculate and print the perimeter of the triangle\n",
        " (the sum of all of the side lengths)."
      ],
      "metadata": {
        "id": "4GK3K6c9YF29"
      }
    },
    {
      "cell_type": "code",
      "source": [
        "def triangle_sum():\n",
        "\n",
        "# What is the length of side 1? 3\n",
        "    side_A = int(input('Enter Side A : '))\n",
        "\n",
        "# What is the length of side 2? 4\n",
        "    side_B = int(input('Enter Side B : '))\n",
        "\n",
        "# What is the length of side 3? 5.5\n",
        "    side_C = int(input('Enter Side C : '))\n",
        "\n",
        "# The perimeter of the triangle is 12.5\n",
        "    total = side_A + side_B + side_C\n",
        "\n",
        "    print(f'the perimeter of triangle is {total}')\n",
        "\n",
        "if __name__ == '__main__':\n",
        "    triangle_sum()"
      ],
      "metadata": {
        "colab": {
          "base_uri": "https://localhost:8080/"
        },
        "id": "HuVnG4vKYdXL",
        "outputId": "cd72a9a1-89f9-4d8b-d23e-e90d037dbfe4"
      },
      "execution_count": 3,
      "outputs": [
        {
          "output_type": "stream",
          "name": "stdout",
          "text": [
            "Enter Side A : 5\n",
            "Enter Side B : 6\n",
            "Enter Side C : 7\n",
            "the perimeter of triangle is 18\n"
          ]
        }
      ]
    },
    {
      "cell_type": "markdown",
      "source": [
        "# ** 06_square_number **\n",
        "Ask the user for a number and print its square (the product of the number times itself).\n",
        "\n",
        "Here's a sample run of the program (user input is in bold italics):\n",
        "\n",
        "Type a number to see its square: 4\n",
        "\n",
        "4.0 squared is 16.0\n"
      ],
      "metadata": {
        "id": "lkT7V6wtYnYO"
      }
    },
    {
      "cell_type": "code",
      "source": [
        "def square():\n",
        "    user_inp = float(input('Type a number to see its square:'))\n",
        "    total = user_inp * user_inp\n",
        "    print(total)\n",
        "\n",
        "if __name__ == '__main__':\n",
        "    square()"
      ],
      "metadata": {
        "id": "8XzIAIBQY3yY"
      },
      "execution_count": null,
      "outputs": []
    }
  ]
}